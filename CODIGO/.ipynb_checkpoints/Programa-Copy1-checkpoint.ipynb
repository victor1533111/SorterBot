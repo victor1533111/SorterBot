{
 "cells": [
  {
   "cell_type": "code",
   "execution_count": 1,
   "metadata": {},
   "outputs": [
    {
     "name": "stderr",
     "output_type": "stream",
     "text": [
      "C:\\Users\\cuent\\anaconda3\\lib\\site-packages\\fuzzywuzzy\\fuzz.py:11: UserWarning: Using slow pure-python SequenceMatcher. Install python-Levenshtein to remove this warning\n",
      "  warnings.warn('Using slow pure-python SequenceMatcher. Install python-Levenshtein to remove this warning')\n"
     ]
    }
   ],
   "source": [
    "import sim          # librería para conectar con CoppeliaSim\n",
    "import sympy as sp  # librería para cálculo simbólico\n",
    "import numpy as np\n",
    "from sympy import *\n",
    "import cv2                      # opencv\n",
    "import matplotlib.pyplot as plt # pyplot\n",
    "from sympy import *\n",
    "from sympy.physics.vector import init_vprinting\n",
    "import time\n",
    "import argparse\n",
    "from sympy.physics.mechanics import dynamicsymbols\n",
    "import pytesseract\n",
    "from PIL import Image\n",
    "import os\n",
    "import re\n",
    "import math\n",
    "from pythonRLSA import rlsa\n",
    "from itertools import tee\n",
    "from datetime import datetime\n",
    "import time\n",
    "from tkinter import *\n",
    "from tkinter.ttk import *\n",
    "from fuzzywuzzy import process"
   ]
  },
  {
   "cell_type": "markdown",
   "metadata": {},
   "source": [
    "#### Requisitos OCR:"
   ]
  },
  {
   "cell_type": "markdown",
   "metadata": {},
   "source": [
    "!pip install pipenv\n",
    "!mkdir ocr_server && cd ocr_server && pipenv install --three\n",
    "!pip install Pillow\n",
    "!pip install pythonRLSA\n",
    "!pip install fuzzywuzzy"
   ]
  },
  {
   "cell_type": "markdown",
   "metadata": {},
   "source": [
    "#### Funciones coppelia"
   ]
  },
  {
   "cell_type": "code",
   "execution_count": 2,
   "metadata": {},
   "outputs": [],
   "source": [
    "def connect(port):\n",
    "# Establece la conexión a VREP\n",
    "# port debe coincidir con el puerto de conexión en VREP\n",
    "# retorna el número de cliente o -1 si no puede establecer conexión\n",
    "    sim.simxFinish(-1) # just in case, close all opened connections\n",
    "    clientID=sim.simxStart('127.0.0.1',port,True,True,2000,5) # Conectarse\n",
    "    if clientID == 0: print(\"conectado a\", port)\n",
    "    else: print(\"no se pudo conectar\")\n",
    "    return clientID\n",
    "\n",
    "def setEffector(val):\n",
    "# función que acciona el efector final remotamente\n",
    "# val es Int con valor 0 ó 1 para desactivar o activar el actuador final.\n",
    "    res,retInts,retFloats,retStrings,retBuffer=sim.simxCallScriptFunction(clientID,\n",
    "        \"suctionPad\", sim.sim_scripttype_childscript,\"setEffector\",[val],[],[],\"\", sim.simx_opmode_blocking)\n",
    "    return res\n",
    "\n",
    "def getDistance(val):\n",
    "# función que acciona el efector final remotamente\n",
    "# val es Int con valor 0 ó 1 para desactivar o activar el actuador final.\n",
    "    res,retInts,retFloats,retStrings,retBuffer=sim.simxCallScriptFunction(clientID,\n",
    "        \"Proximity_sensor\", sim.sim_scripttype_childscript,\"getDistance\",[val],[],[],\"\", sim.simx_opmode_blocking)\n",
    "    return res\n",
    "\n"
   ]
  },
  {
   "cell_type": "markdown",
   "metadata": {},
   "source": [
    "#### Funciones necesarias para implementar los diversos bloques del diagrama de SW:"
   ]
  },
  {
   "cell_type": "markdown",
   "metadata": {},
   "source": [
    "#### Vision"
   ]
  },
  {
   "cell_type": "code",
   "execution_count": 3,
   "metadata": {},
   "outputs": [],
   "source": [
    "def generar_imagen():\n",
    "    # Obtenemos la imagen del Sensor de Cámara\n",
    "    retCode, resolution, image=sim.simxGetVisionSensorImage(clientID,camera,0,sim.simx_opmode_oneshot_wait)\n",
    "    img=np.array(image,dtype=np.uint8)\n",
    "    img.resize([resolution[1],resolution[0],3])\n",
    "    img=cv2.flip(img,1)\n",
    "    if not os.path.exists('Imagenes'):\n",
    "        os.makedirs('Imagenes')\n",
    "    cv2.imwrite(os.path.join('Imagenes' , 'foto.jpg'), img)\n",
    "    cv2.waitKey(0)\n"
   ]
  },
  {
   "cell_type": "markdown",
   "metadata": {},
   "source": [
    "#### Botones"
   ]
  },
  {
   "cell_type": "code",
   "execution_count": 4,
   "metadata": {},
   "outputs": [],
   "source": [
    "def botones():\n",
    "    \n",
    "    def onclick(args):\n",
    "        if args==1:\n",
    "            return 1\n",
    "        else: \n",
    "            return 2\n",
    "    root = Tk()\n",
    "    root.title(\"Selecciona que algoritmo desea aplicar\")\n",
    "\n",
    "    boton1=Button(root,text=\"Clasificar\",command=lambda:onclick(1))\n",
    "    boton1.pack(side=LEFT)\n",
    "    boton2=Button(root,text=\"Ordenar\",command=lambda:onclick(2))\n",
    "    boton2.pack(side=RIGHT)\n",
    "    root.mainloop()"
   ]
  },
  {
   "cell_type": "markdown",
   "metadata": {},
   "source": [
    "#### Cinematicas"
   ]
  },
  {
   "cell_type": "code",
   "execution_count": 5,
   "metadata": {},
   "outputs": [
    {
     "data": {
      "text/latex": [
       "$\\displaystyle \\left[\\begin{matrix}1.0 \\operatorname{cos}\\left(\\theta_{1} + \\theta_{2}\\right) & - 1.0 \\operatorname{sin}\\left(\\theta_{1} + \\theta_{2}\\right) & 0 & l_{1} \\operatorname{cos}\\left(\\theta_{1}\\right)\\\\1.0 \\operatorname{sin}\\left(\\theta_{1} + \\theta_{2}\\right) & 1.0 \\operatorname{cos}\\left(\\theta_{1} + \\theta_{2}\\right) & 0 & l_{1} \\operatorname{sin}\\left(\\theta_{1}\\right)\\\\0 & 0 & 1.0 & 1.0 d_{1} - 1.0 d_{2} + 1.0 d_{3}\\\\0 & 0 & 0 & 1\\end{matrix}\\right]$"
      ],
      "text/plain": [
       "Matrix([\n",
       "[1.0*cos(theta1 + theta2), -1.0*sin(theta1 + theta2),   0,           l1*cos(theta1)],\n",
       "[1.0*sin(theta1 + theta2),  1.0*cos(theta1 + theta2),   0,           l1*sin(theta1)],\n",
       "[                       0,                         0, 1.0, 1.0*d1 - 1.0*d2 + 1.0*d3],\n",
       "[                       0,                         0,   0,                        1]])"
      ]
     },
     "execution_count": 5,
     "metadata": {},
     "output_type": "execute_result"
    }
   ],
   "source": [
    "# declaramos los símbolos (longitudes, variables, etc.) que se utilizarán para una formulación posterior.\n",
    "init_vprinting(use_latex='mathjax', pretty_print=False)\n",
    "theta1,theta2, d1, l1,d2, d3, theta, alpha, a, d = dynamicsymbols('theta1 theta2 d1 l1 d2 d3 theta alpha a d')\n",
    "theta1,theta2, d1, l1, d2, d3, theta, alpha, a, d\n",
    "# La matriz de transformación homogénea estándar se representa como:\n",
    "\n",
    "rot = sp.Matrix([[sp.cos(theta), -sp.sin(theta)*sp.cos(alpha), sp.sin(theta)*sp.sin(alpha)],\n",
    "                 [sp.sin(theta), sp.cos(theta)*sp.cos(alpha), -sp.cos(theta)*sp.sin(alpha)],\n",
    "                 [0, sp.sin(alpha), sp.cos(alpha)]])\n",
    "\n",
    "trans = sp.Matrix([a*sp.cos(theta),a*sp.sin(theta),d])\n",
    "\n",
    "last_row = sp.Matrix([[0, 0, 0, 1]])\n",
    "m = sp.Matrix.vstack(sp.Matrix.hstack(rot, trans), last_row)\n",
    "# Transformacion: 1r eje de  '0' a '1'\n",
    "m01 = m.subs({ theta:theta1, d:d1, a:l1 , alpha:180*np.pi/180})\n",
    "m01[0,2]=0\n",
    "m01[1,2]=0\n",
    "m01[2,1]=0\n",
    "m12 = m.subs({ theta:0, d:d2, a:0 , alpha:-180*np.pi/180})\n",
    "m12[1,2]=0\n",
    "m12[2,1]=0\n",
    "m23 = m.subs({ theta:theta2, d:d3, a:0 , alpha:0})\n",
    "m03 = (m01*m12*m23)\n",
    "# Matriz Resultante podemos simplificarla más :\n",
    "mbee= sp.Matrix([[sp.trigsimp(m03[0,0].simplify()), sp.trigsimp(m03[0,1].simplify()), sp.trigsimp(m03[0,2].simplify()),sp.trigsimp(m03[0,3].simplify())],\n",
    "                 [sp.trigsimp(m03[1,0].simplify()), sp.trigsimp(m03[1,1].simplify()), sp.trigsimp(m03[1,2].simplify()),sp.trigsimp(m03[1,3].simplify())],\n",
    "                 [m03[2,0].simplify(), m03[2,1].simplify(), m03[2,2].simplify(),m03[2,3].simplify()],\n",
    "                 [m03[3,0].simplify(), m03[3,1].simplify(), m03[3,2].simplify(),m03[3,3].simplify()]])\n",
    "mbee\n",
    "    "
   ]
  },
  {
   "cell_type": "markdown",
   "metadata": {},
   "source": [
    "### Bloques Del Diagrama de SW"
   ]
  },
  {
   "cell_type": "markdown",
   "metadata": {},
   "source": [
    "#### Detección de título:"
   ]
  },
  {
   "cell_type": "code",
   "execution_count": 6,
   "metadata": {},
   "outputs": [],
   "source": [
    "def detectar_titulo():\n",
    "    image=cv2.imread('Imagenes/foto.jpg')\n",
    "    img=cv2.imread('Imagenes/foto.jpg')\n",
    "    image=image[:400,:]\n",
    "    gray = cv2.cvtColor(image, cv2.COLOR_BGR2GRAY) # convert2grayscale\n",
    "    (thresh, binary) = cv2.threshold(gray, 150, 255, cv2.THRESH_BINARY | cv2.THRESH_OTSU) # convert2binary\n",
    "    \n",
    "    (contours, _) = cv2.findContours(~binary,cv2.RETR_EXTERNAL,cv2.CHAIN_APPROX_SIMPLE) \n",
    "    # find contours\n",
    "    for contour in contours:\n",
    "        \"\"\"\n",
    "        draw a rectangle around those contours on main image\n",
    "        \"\"\"\n",
    "        [x,y,w,h] = cv2.boundingRect(contour)\n",
    "        cv2.rectangle(image, (x,y), (x+w,y+h), (0, 255, 0), 1)\n",
    "\n",
    "    mask = np.ones(image.shape[:2], dtype=\"uint8\") * 255 # create blank image of same dimension of the original image\n",
    "    (contours, _) = cv2.findContours(~binary,cv2.RETR_EXTERNAL,cv2.CHAIN_APPROX_SIMPLE) \n",
    "    heights = [cv2.boundingRect(contour)[3] for contour in contours] # collecting heights of each contour\n",
    "    avgheight = sum(heights)/len(heights) # average height\n",
    "    # finding the larger contours\n",
    "    # Applying Height heuristic\n",
    "    for c in contours:\n",
    "        [x,y,w,h] = cv2.boundingRect(c)\n",
    "        if h > 2*avgheight:\n",
    "            cv2.drawContours(mask, [c], -1, 0, -1)\n",
    "    x, y = mask.shape\n",
    "    value = max(math.ceil(x/100),math.ceil(y/100))+20 #heuristic\n",
    "    mask = rlsa.rlsa(mask, True, False, value) #rlsa application\n",
    "    (contours, _) = cv2.findContours(~mask,cv2.RETR_EXTERNAL,cv2.CHAIN_APPROX_SIMPLE) # find contours\n",
    "    mask2 = np.ones(image.shape, dtype=\"uint8\") * 255 # blank 3 layer image\n",
    "    for contour in contours:\n",
    "        [x, y, w, h] = cv2.boundingRect(contour)\n",
    "        if w > 0.10*image.shape[1]: # width heuristic applied\n",
    "            title = image[y: y+h, x: x+w] \n",
    "            mask2[y: y+h, x: x+w] = img[y: y+h, x: x+w] # copied title contour onto the blank image\n",
    "            image[y: y+h, x: x+w] = 255 # nullified the title contour on original image\n",
    "    cv2.imwrite(os.path.join('Imagenes' , 'foto_titulo.jpg'), mask2)\n",
    "    cv2.waitKey(0)\n",
    "    pytesseract.pytesseract.tesseract_cmd = r'C:\\Program Files\\Tesseract-OCR\\tesseract'\n",
    "    image= cv2.imread('Imagenes/foto_titulo.jpg')\n",
    "    text = pytesseract.image_to_string(image)\n",
    "    t = text.splitlines()\n",
    "    for c in t:\n",
    "        if not c.isalpha():\n",
    "            t.remove(c)\n",
    "\n",
    "    return t[0]\n",
    "    "
   ]
  },
  {
   "cell_type": "markdown",
   "metadata": {},
   "source": [
    "#### Detección de fecha:"
   ]
  },
  {
   "cell_type": "code",
   "execution_count": 7,
   "metadata": {},
   "outputs": [],
   "source": [
    "def detectar_fecha():\n",
    "    valido_desde = datetime(1920, 1, 1)\n",
    "    valido_hasta = datetime(2030, 1, 1)\n",
    "    año_defecto = 2021\n",
    "\n",
    "    formatos = [\n",
    "        ['%d', '%m', '%Y'], \n",
    "        ['%d', '%b', '%Y'],\n",
    "        ['%d', '%B', '%Y'],\n",
    "        ['%d', '%b'],\n",
    "        ['%d', '%B'],\n",
    "        ['%b', '%d'],\n",
    "        ['%B', '%d'],\n",
    "        ['%b', '%Y'],\n",
    "        ['%B', '%Y'],\n",
    "        ['%d', '%m']\n",
    "    ]\n",
    "\n",
    "    pytesseract.pytesseract.tesseract_cmd = r'C:\\Program Files\\Tesseract-OCR\\tesseract'\n",
    "    image= cv2.imread('Imagenes/foto.jpg')\n",
    "    text = pytesseract.image_to_string(image)\n",
    "\n",
    "\n",
    "    fechas=[]\n",
    "\n",
    "    #Detectamos todas las coincidencias con fechas\n",
    "    t1, t2, t3 = tee(re.findall(r'\\b\\w+\\b', text), 3)\n",
    "    next(t2, None)\n",
    "    next(t3, None)\n",
    "    next(t3, None)\n",
    "    triples = zip(t1, t2, t3)\n",
    "    conseguido=false\n",
    "    #Comprobamos las fechas con todos los formatos posibles\n",
    "    for triple in triples:\n",
    "        for formato in formatos:\n",
    "            try:\n",
    "                dt = datetime.strptime(' '.join(triple[:len(formato)]), ' '.join(formato))\n",
    "\n",
    "                if '%Y' not in formato:\n",
    "                    dt = dt.replace(year=año_defecto)\n",
    "\n",
    "                if valido_desde <= dt <= valido_hasta:\n",
    "                    fechas.append(dt.strftime('%d/%m/%Y'))\n",
    "                    conseguido=true\n",
    "                    for skip in range(1, len(formato)):\n",
    "                        next(triples)\n",
    "                break\n",
    "\n",
    "            except ValueError:\n",
    "                pass\n",
    "    Fecha=fechas\n",
    "    return Fecha"
   ]
  },
  {
   "cell_type": "markdown",
   "metadata": {},
   "source": [
    "#### Deteción de orientación de la hoja"
   ]
  },
  {
   "cell_type": "code",
   "execution_count": 8,
   "metadata": {},
   "outputs": [],
   "source": [
    "def dist(x0,y0,x1,y2):\n",
    "\n",
    "    return np.sqrt((x1-x0)**2+(y2-y0)**2)\n",
    "\n",
    "def angle(img):\n",
    "     # Converting the image to grayscale.\n",
    "    gray = cv2.cvtColor(img, cv2.COLOR_BGR2GRAY)\n",
    "    # Using the Canny filter to get contours\n",
    "    kernel = np.ones((5,5),np.uint8)\n",
    "    dilation = cv2.dilate(img,kernel,iterations = 5)\n",
    "    lin = cv2.Canny(dilation,10, 110)\n",
    "    lines = cv2.HoughLinesP(lin, 1, math.pi / 180.0, 75, minLineLength=50,maxLineGap=5)\n",
    "    plt.imshow(lin)\n",
    "    plt.show()\n",
    "    if lines.all()!=None:\n",
    "        l = list(lines)\n",
    "        l.sort(key=lambda coord: dist(coord[0,0], coord[0,1], coord[0,2],coord[0,3]),reverse=True)\n",
    "        line=l[0]\n",
    "        angle = atan2(line[0][0] -line[0][2], line[0][1] - line[0][3])\n",
    "        angle = math.degrees(angle)\n",
    "        trobat=False\n",
    "        angle=round(angle)\n",
    "        rotacion=-angle\n",
    "    \n",
    "        if rotacion>90:\n",
    "            rotacion=rotacion-180\n",
    "        return rotacion\n",
    "    else:\n",
    "        print(\"Error, no es detecta full\")\n",
    "        return 0\n"
   ]
  },
  {
   "cell_type": "markdown",
   "metadata": {},
   "source": [
    "#### Detectar si quedan hojas"
   ]
  },
  {
   "cell_type": "code",
   "execution_count": 9,
   "metadata": {},
   "outputs": [],
   "source": [
    "def quedan_hojas(img):\n",
    "    imgsuelo=img[:400,:]\n",
    "    gray = cv2.cvtColor(imgsuelo, cv2.COLOR_BGR2GRAY) # convert2grayscale\n",
    "    (thresh, binary) = cv2.threshold(gray, 30, 255, cv2.THRESH_BINARY | cv2.THRESH_OTSU) # convert2binary\n",
    "    binary=binary[:200,:400]\n",
    "    if 0 not in binary:\n",
    "        return 0\n",
    "    else:\n",
    "        return 1"
   ]
  },
  {
   "cell_type": "markdown",
   "metadata": {},
   "source": [
    "#### Algoritmo clasificación:"
   ]
  },
  {
   "cell_type": "code",
   "execution_count": 17,
   "metadata": {},
   "outputs": [],
   "source": [
    "def Posicion_orientado():\n",
    "    distancia_suelo=0.21\n",
    "    distance=sim.simxReadProximitySensor(clientID, sensor, sim.simx_opmode_blocking)\n",
    "    retCode = sim.simxSetJointTargetPosition(clientID, joint2, -(distance[2][2]-0.055), sim.simx_opmode_oneshot)\n",
    "    setEffector(1)\n",
    "    time.sleep(1)\n",
    "    retCode = sim.simxSetJointTargetPosition(clientID, joint2, 0, sim.simx_opmode_oneshot)\n",
    "    time.sleep(1)\n",
    "    retCode = sim.simxSetJointTargetPosition(clientID, joint1,-45*np.pi/180, sim.simx_opmode_oneshot)\n",
    "    time.sleep(1)\n",
    "    retCode = sim.simxSetJointTargetPosition(clientID, joint2,-distancia_suelo, sim.simx_opmode_oneshot)\n",
    "    time.sleep(2)\n",
    "def similitud(texto,lista_textos):\n",
    "    highest = process.extractOne(texto,lista_textos)\n",
    "    return highest\n",
    "\n",
    "def posicionar(rotacion,distancia):\n",
    "    an1=0;an2=abs(rotacion);\n",
    "    waita1a2= (an1-an2)/90 if (an1>an2) else (an2-an1)/90\n",
    "    retCode = sim.simxSetJointTargetPosition(clientID, joint2, 0, sim.simx_opmode_oneshot)\n",
    "    time.sleep(1)\n",
    "    retCode = sim.simxSetJointTargetPosition(clientID, joint1,rotacion*np.pi/180, sim.simx_opmode_oneshot)\n",
    "    time.sleep(waita1a2)\n",
    "    retCode = sim.simxSetJointTargetPosition(clientID, joint2,-distancia, sim.simx_opmode_oneshot)\n",
    "    time.sleep(1)\n",
    "    setEffector(0)\n",
    "    time.sleep(1)\n",
    "    retCode = sim.simxSetJointTargetPosition(clientID, joint2, 0, sim.simx_opmode_oneshot)\n",
    "    time.sleep(1)\n",
    "    retCode = sim.simxSetJointTargetPosition(clientID, joint1,0, sim.simx_opmode_oneshot)\n",
    "    \n",
    "def orientar_hoja(angulo):\n",
    "    retCode = sim.simxSetJointTargetPosition(clientID, joint3,angulo*np.pi/180, sim.simx_opmode_oneshot)\n",
    "    time.sleep(1)\n",
    "\n",
    "def main():\n",
    "    \n",
    "    clientID = connect(1999)\n",
    "    retCode,joint1=sim.simxGetObjectHandle(clientID,'Joint1',sim.simx_opmode_blocking)\n",
    "    retCode,joint2=sim.simxGetObjectHandle(clientID,'Joint2',sim.simx_opmode_blocking)\n",
    "    retCode,joint3=sim.simxGetObjectHandle(clientID,'Joint3',sim.simx_opmode_blocking)\n",
    "    retCode,camera=sim.simxGetObjectHandle(clientID,'Vision_sensor',sim.simx_opmode_blocking)\n",
    "    retCode,suctionPad=sim.simxGetObjectHandle(clientID,'suctionPad',sim.simx_opmode_blocking)\n",
    "    retCode,sensor=sim.simxGetObjectHandle(clientID,'Proximity_sensor',sim.simx_opmode_blocking)\n",
    "    distancia_suelo=0.21\n",
    "    angulos=[45,90,-90,135,-135,180]\n",
    "    slots=dict()\n",
    "    algoritmo=1\n",
    "    altura_hoja=0.02\n",
    "    while 1:\n",
    "        if algoritmo==1:\n",
    "            generar_imagen()\n",
    "            img=cv2.imread('Imagenes/foto.jpg')\n",
    "            if quedan_hojas(img)==0:\n",
    "                print(\"Ya no quedan más hojas.\")\n",
    "                break\n",
    "            Posicion_orientado()\n",
    "            generar_imagen()\n",
    "            img2=cv2.imread('Imagenes/foto.jpg')\n",
    "            angulo=angle(img2)\n",
    "            orientar_hoja(angulo) \n",
    "            generar_imagen()\n",
    "            img3=cv2.imread('Imagenes/foto.jpg')\n",
    "            plt.imshow(img3)\n",
    "            plt.show()\n",
    "            titulo=detectar_titulo()\n",
    "            print(titulo)\n",
    "            mas_simil=similitud(titulo,slots.keys())\n",
    "            if len(angulos)!=0:\n",
    "                if mas_simil == None:\n",
    "                    slots[titulo]=[angulos[0],1]\n",
    "                    rotacion=angulos[0]\n",
    "                    angulos.pop(0)\n",
    "                    mas_simil=[]\n",
    "                    mas_simil.append(titulo)   \n",
    "                elif mas_simil[1]<50:\n",
    "                    slots[titulo]=[angulos[0],1]\n",
    "                    rotacion=angulos[0]\n",
    "                    angulos.pop(0)\n",
    "                else: \n",
    "                    slots[mas_simil[0]][1]=slots[mas_simil[0]][1]+1\n",
    "                    rotacion=slots[mas_simil[0]][0]\n",
    "            else:\n",
    "                if mas_simil[1]<50:\n",
    "                    slots[titulo]=[angulos[0],1]\n",
    "                    rotacion=180\n",
    "                else: \n",
    "                    slots[mas_simil[0]][1]=slots[mas_simil[0]][1]+1\n",
    "                    rotacion=slots[mas_simil[0]][0]\n",
    "                \n",
    "            num_hojas= slots[mas_simil[0]][1]\n",
    "            distancia=distancia_suelo-(num_hojas*altura_hoja)   \n",
    "            posicionar(rotacion,distancia)   \n",
    "            time.sleep(1)\n",
    "            "
   ]
  },
  {
   "cell_type": "code",
   "execution_count": 20,
   "metadata": {},
   "outputs": [
    {
     "name": "stdout",
     "output_type": "stream",
     "text": [
      "conectado a 1999\n"
     ]
    }
   ],
   "source": [
    "clientID = connect(1999)\n",
    "retCode,joint1=sim.simxGetObjectHandle(clientID,'Joint1',sim.simx_opmode_blocking)\n",
    "retCode,joint2=sim.simxGetObjectHandle(clientID,'Joint2',sim.simx_opmode_blocking)\n",
    "retCode,joint3=sim.simxGetObjectHandle(clientID,'Joint3',sim.simx_opmode_blocking)\n",
    "retCode,camera=sim.simxGetObjectHandle(clientID,'Vision_sensor',sim.simx_opmode_blocking)\n",
    "retCode,suctionPad=sim.simxGetObjectHandle(clientID,'suctionPad',sim.simx_opmode_blocking)\n",
    "retCode,sensor=sim.simxGetObjectHandle(clientID,'Proximity_sensor',sim.simx_opmode_blocking)"
   ]
  },
  {
   "cell_type": "code",
   "execution_count": null,
   "metadata": {},
   "outputs": [
    {
     "name": "stdout",
     "output_type": "stream",
     "text": [
      "conectado a 1999\n"
     ]
    },
    {
     "data": {
      "image/png": "[encoded data removed]",
      "text/plain": [
       "<Figure size 432x288 with 1 Axes>"
      ]
     },
     "metadata": {
      "needs_background": "light"
     },
     "output_type": "display_data"
    },
    {
     "data": {
      "image/png": "[encoded data removed]",
      "text/plain": [
       "<Figure size 432x288 with 1 Axes>"
      ]
     },
     "metadata": {
      "needs_background": "light"
     },
     "output_type": "display_data"
    },
    {
     "name": "stdout",
     "output_type": "stream",
     "text": [
      "SO _ Docker\n"
     ]
    }
   ],
   "source": [
    "main()"
   ]
  },
  {
   "cell_type": "markdown",
   "metadata": {},
   "source": [
    "#### Algoritmo ordenación:"
   ]
  },
  {
   "cell_type": "code",
   "execution_count": 162,
   "metadata": {},
   "outputs": [
    {
     "name": "stdout",
     "output_type": "stream",
     "text": [
      "conectado a 1999\n",
      "2.0\n",
      "1.0\n",
      "['02/12/2021']\n"
     ]
    },
    {
     "data": {
      "image/png": "[encoded data removed]",
      "text/plain": [
       "<Figure size 432x288 with 1 Axes>"
      ]
     },
     "metadata": {
      "needs_background": "light"
     },
     "output_type": "display_data"
    },
    {
     "name": "stdout",
     "output_type": "stream",
     "text": [
      "['02/12/2021', '17/11/2019']\n",
      "Ya no quedan más hojas.\n"
     ]
    }
   ],
   "source": [
    "def getHoja():\n",
    "    distancia_suelo=0.21\n",
    "    distance=sim.simxReadProximitySensor(clientID, sensor, sim.simx_opmode_blocking)\n",
    "    retCode = sim.simxSetJointTargetPosition(clientID, joint2, -(distance[2][2]-0.055), sim.simx_opmode_oneshot)\n",
    "    time.sleep(0.5)\n",
    "    setEffector(1)\n",
    "    retCode = sim.simxSetJointTargetPosition(clientID, joint2, 0, sim.simx_opmode_oneshot)\n",
    "    time.sleep(0.5)\n",
    "    \n",
    "def dejarHoja():\n",
    "    distance=sim.simxReadProximitySensor(clientID, sensor, sim.simx_opmode_blocking)\n",
    "    retCode = sim.simxSetJointTargetPosition(clientID, joint2, -0.19, sim.simx_opmode_oneshot)\n",
    "    time.sleep(0.5)\n",
    "    setEffector(0)\n",
    "    retCode = sim.simxSetJointTargetPosition(clientID, joint2, -0, sim.simx_opmode_oneshot)\n",
    "    time.sleep(0.5)\n",
    "    retCode = sim.simxSetJointTargetPosition(clientID, joint3, 0, sim.simx_opmode_oneshot)\n",
    "\n",
    "def sort_stack(old, a1, a2, atemp):\n",
    "    \"\"\"\n",
    "    :param old: la lista de fechas en orden\n",
    "    :param a1: DONDE ESTA AHORA LA PILA\n",
    "    :param a2: EL LUGAR ORIGINAL DONDE SE GUARDARA LA PILA\n",
    "    :param atemp: un angulo que se usara para ayudar a ordenar (quedará vacio)\n",
    "    :return: describe what it returns\n",
    "    \"\"\" \n",
    "    new = []\n",
    "    \n",
    "    # wait___ : Funciones para que segun la distancia entre angulo y angulo espere mas o menos\n",
    "    #.           Para evitar que haga setEffector antes de tiempo\n",
    "    an1=abs(a1);an2=abs(a2);antemp=abs(atemp)\n",
    "    waita1a2= (an1-an2)/90 if (an1>an2) else (an2-an1)/90\n",
    "    waita1atemp= (an1-antemp)/90 if (an1>antemp) else (antemp-an1)/90\n",
    "    waita2atemp= (antemp-an2)/90 if (antemp>an2) else (an2-antemp)/90\n",
    "    \n",
    "    \n",
    "    retCode = sim.simxSetJointTargetPosition(clientID, joint1, a1*np.pi/180, sim.simx_opmode_oneshot)\n",
    "    time.sleep(waita1a2)\n",
    "\n",
    "    while(len(old) != 0):\n",
    "        bucle=False\n",
    "        temp_value = old[-1]\n",
    "        old.pop()\n",
    "        retCode = sim.simxSetJointTargetPosition(clientID, joint1, a1*np.pi/180, sim.simx_opmode_oneshot)\n",
    "        time.sleep(waita1a2)\n",
    "        getHoja()\n",
    "        time.sleep(1)\n",
    "        while(len(new) != 0 and datetime.strptime(new[-1], '%d/%m/%Y') > datetime.strptime(temp_value, '%d/%m/%Y')):\n",
    "            bucle=True\n",
    "            old.append(new[-1])\n",
    "            new.pop()\n",
    "            retCode = sim.simxSetJointTargetPosition(clientID, joint1, atemp*np.pi/180, sim.simx_opmode_oneshot)\n",
    "            time.sleep(waita1atemp)\n",
    "            dejarHoja()\n",
    "            time.sleep(1)\n",
    "            retCode = sim.simxSetJointTargetPosition(clientID, joint1, a2*np.pi/180, sim.simx_opmode_oneshot)\n",
    "            time.sleep(waita2atemp)\n",
    "            getHoja()\n",
    "            time.sleep(1)\n",
    "            retCode = sim.simxSetJointTargetPosition(clientID, joint1, a1*np.pi/180, sim.simx_opmode_oneshot)\n",
    "            time.sleep(waita1a2)\n",
    "            dejarHoja()\n",
    "            time.sleep(1)\n",
    "            \n",
    "        if bucle == False:\n",
    "            retCode = sim.simxSetJointTargetPosition(clientID, joint1, a2*np.pi/180, sim.simx_opmode_oneshot)\n",
    "            time.sleep(waita1a2)\n",
    "            dejarHoja()\n",
    "            time.sleep(1)\n",
    "        else:\n",
    "            retCode = sim.simxSetJointTargetPosition(clientID, joint1, atemp*np.pi/180, sim.simx_opmode_oneshot)\n",
    "            time.sleep(max(waita1atemp, waita2atemp))\n",
    "            getHoja()\n",
    "            time.sleep(1)\n",
    "            retCode = sim.simxSetJointTargetPosition(clientID, joint1, a2*np.pi/180, sim.simx_opmode_oneshot)\n",
    "            time.sleep(waita2atemp)\n",
    "            dejarHoja()\n",
    "            time.sleep(1)\n",
    "        new.append(temp_value)\n",
    "    return new\n",
    "\n",
    "\n",
    "def ordenarFecha(a1, a2, atemp):\n",
    "    \"\"\"\n",
    "    ordenarFecha: ordena una pila de hojas de una categoria\n",
    "\n",
    "    :param a1: el angulo de la pila que quieres ordenar\n",
    "    :param a2: el angulo que quieres que sirva para ayuda a la ordenación\n",
    "    \n",
    "    Pasos: \n",
    "        1- Mueve la pila a un angulo \"libre\"\n",
    "        2- Ordena la pila dejandola en su angulo correspondiente\n",
    "    \"\"\" \n",
    "    clientID = connect(1999)\n",
    "    retCode,joint1=sim.simxGetObjectHandle(clientID,'Joint1',sim.simx_opmode_blocking)\n",
    "    retCode,joint2=sim.simxGetObjectHandle(clientID,'Joint2',sim.simx_opmode_blocking)\n",
    "    retCode,joint3=sim.simxGetObjectHandle(clientID,'Joint3',sim.simx_opmode_blocking)\n",
    "    retCode,camera=sim.simxGetObjectHandle(clientID,'Vision_sensor',sim.simx_opmode_blocking)\n",
    "    retCode,suctionPad=sim.simxGetObjectHandle(clientID,'suctionPad',sim.simx_opmode_blocking)\n",
    "    retCode,sensor=sim.simxGetObjectHandle(clientID,'Proximity_sensor',sim.simx_opmode_blocking)\n",
    "    \n",
    "    distancia_suelo=0.21\n",
    "    angulos=[45,90,-90,120,-120,150,-150,180]\n",
    "    slots=dict()\n",
    "    algoritmo=1\n",
    "    altura_hoja=0.03\n",
    "    \n",
    "    an1=abs(a1);an2=abs(a2);antemp=abs(atemp)\n",
    "    waita1a2= (an1-an2)/45 if (an1>an2) else (an2-an1)/45\n",
    "    waita1aorientar=(an1-45)/45 if (an1>an2) else (45-an1)/45\n",
    "    \n",
    "    print(waita1a2)\n",
    "    print(waita1aorientar)\n",
    "    \n",
    "    temp_fechas_list=[]\n",
    "    \n",
    "    lenList = 0\n",
    "    \n",
    "    while 1:\n",
    "        retCode = sim.simxSetJointTargetPosition(clientID, joint1, a1*np.pi/180, sim.simx_opmode_oneshot)\n",
    "        time.sleep(waita1a2)\n",
    "        generar_imagen()\n",
    "        img=cv2.imread('Imagenes/foto.jpg')\n",
    "        if quedan_hojas(img)==0:\n",
    "            print(\"Ya no quedan más hojas.\")\n",
    "            s = sort_stack(temp_fechas_list, a2, a1, atemp)\n",
    "            return\n",
    "        fecha = detectar_fecha()\n",
    "        if len(fecha) > 0: # Si lee fecha quiere decir que está bien orientada\n",
    "            temp_fechas_list.append(fecha[0])\n",
    "            getHoja()\n",
    "            time.sleep(1)\n",
    "            retCode = sim.simxSetJointTargetPosition(clientID, joint1, a2*np.pi/180, sim.simx_opmode_oneshot)\n",
    "            time.sleep(waita1a2)\n",
    "            dejarHoja()\n",
    "            lenList+=1\n",
    "        else: # Si esta mal orientada\n",
    "            getHoja()\n",
    "            retCode = sim.simxSetJointTargetPosition(clientID, joint1, -45*np.pi/180, sim.simx_opmode_oneshot)\n",
    "            time.sleep(waita1aorientar)\n",
    "            retCode = sim.simxSetJointTargetPosition(clientID, joint2, -0.19, sim.simx_opmode_oneshot)\n",
    "            generar_imagen()\n",
    "            time.sleep(0.7)\n",
    "            retCode = sim.simxSetJointTargetPosition(clientID, joint2, 0, sim.simx_opmode_oneshot)\n",
    "            generar_imagen()\n",
    "            img=cv2.imread('Imagenes/foto.jpg')\n",
    "            angulo=angle(img)\n",
    "            retCode = sim.simxSetJointTargetPosition(clientID, joint3, angulo*np.pi/180, sim.simx_opmode_oneshot)\n",
    "            time.sleep(0.4)\n",
    "            retCode = sim.simxSetJointTargetPosition(clientID, joint1, a2*np.pi/180, sim.simx_opmode_oneshot)\n",
    "            time.sleep(waita1a2)\n",
    "            orientar_hoja(angulo)\n",
    "            dejarHoja()\n",
    "            generar_imagen()\n",
    "            fecha = detectar_fecha()\n",
    "            if len(fecha) > 0:\n",
    "                temp_fechas_list.append(fecha[0])\n",
    "                lenList+=1\n",
    "        print(temp_fechas_list)\n",
    "ordenarFecha(0, 90, 45)"
   ]
  },
  {
   "cell_type": "code",
   "execution_count": null,
   "metadata": {},
   "outputs": [],
   "source": []
  }
 ],
 "metadata": {
  "kernelspec": {
   "display_name": "Python 3",
   "language": "python",
   "name": "python3"
  },
  "language_info": {
   "codemirror_mode": {
    "name": "ipython",
    "version": 3
   },
   "file_extension": ".py",
   "mimetype": "text/x-python",
   "name": "python",
   "nbconvert_exporter": "python",
   "pygments_lexer": "ipython3",
   "version": "3.7.6"
  }
 },
 "nbformat": 4,
 "nbformat_minor": 4
}
